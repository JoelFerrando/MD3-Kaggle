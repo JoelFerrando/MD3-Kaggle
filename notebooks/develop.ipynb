{
  "nbformat": 4,
  "nbformat_minor": 0,
  "metadata": {
    "colab": {
      "name": "develop.ipynb",
      "provenance": [],
      "collapsed_sections": []
    },
    "kernelspec": {
      "name": "python3",
      "display_name": "Python 3"
    },
    "language_info": {
      "name": "python"
    }
  },
  "cells": [
    {
      "cell_type": "markdown",
      "source": [
        "**Nom:** Joel Ferrando Ruiz <br>\n",
        "**Dataset:** Telugu Vowel Dataset <br>\n",
        "**GitHub:** https://github.com/JoelFerrando/MD3-Kaggle"
      ],
      "metadata": {
        "id": "14Lo3zZUJjFy"
      }
    },
    {
      "cell_type": "markdown",
      "source": [
        "# Telugu Vowel Dataset"
      ],
      "metadata": {
        "id": "woRy8IlPInKl"
      }
    },
    {
      "cell_type": "markdown",
      "source": [
        "El dataset tracta de sis vocals del idioma Telegu. El dataset està compost de pixels i la seva classe respectiva. L'objectiu será predir quin tipus de classe (vocal) és."
      ],
      "metadata": {
        "id": "m8EABlLII1T3"
      }
    },
    {
      "cell_type": "markdown",
      "source": [
        "## **Llibreries**\n"
      ],
      "metadata": {
        "id": "fZMdCfJ4Lzz1"
      }
    },
    {
      "cell_type": "code",
      "execution_count": 113,
      "metadata": {
        "id": "MXIRKxPsIjzq"
      },
      "outputs": [],
      "source": [
        "import numpy as np\n",
        "import pandas as pd\n",
        "import time\n",
        "import seaborn as sns\n",
        "import matplotlib.pyplot as plt\n",
        "from sklearn.model_selection import train_test_split\n",
        "from sklearn.neighbors import KNeighborsClassifier\n",
        "from sklearn.model_selection import cross_val_score\n",
        "from sklearn.metrics import accuracy_score\n",
        "from sklearn.decomposition import PCA\n",
        "from sklearn import svm\n",
        "from sklearn.ensemble import RandomForestClassifier"
      ]
    },
    {
      "cell_type": "markdown",
      "source": [
        "## **Dades**"
      ],
      "metadata": {
        "id": "cGMmPLAdMJMQ"
      }
    },
    {
      "cell_type": "markdown",
      "source": [
        "### Llegim el csv"
      ],
      "metadata": {
        "id": "ECAA2DkhMM4v"
      }
    },
    {
      "cell_type": "code",
      "source": [
        "df = pd.read_csv(\"CSV_datasetsix_vowel_dataset_with_class.csv\")"
      ],
      "metadata": {
        "id": "yyARq4f5MO8G"
      },
      "execution_count": 114,
      "outputs": []
    },
    {
      "cell_type": "code",
      "source": [
        "df.head()"
      ],
      "metadata": {
        "id": "s2iLd-PWM1o9",
        "colab": {
          "base_uri": "https://localhost:8080/",
          "height": 256
        },
        "outputId": "64e4b1f6-d4f0-45b7-d285-483964b1a20b"
      },
      "execution_count": 115,
      "outputs": [
        {
          "output_type": "execute_result",
          "data": {
            "text/html": [
              "<div>\n",
              "<style scoped>\n",
              "    .dataframe tbody tr th:only-of-type {\n",
              "        vertical-align: middle;\n",
              "    }\n",
              "\n",
              "    .dataframe tbody tr th {\n",
              "        vertical-align: top;\n",
              "    }\n",
              "\n",
              "    .dataframe thead th {\n",
              "        text-align: right;\n",
              "    }\n",
              "</style>\n",
              "<table border=\"1\" class=\"dataframe\">\n",
              "  <thead>\n",
              "    <tr style=\"text-align: right;\">\n",
              "      <th></th>\n",
              "      <th>pixel0</th>\n",
              "      <th>pixel1</th>\n",
              "      <th>pixel2</th>\n",
              "      <th>pixel3</th>\n",
              "      <th>pixel4</th>\n",
              "      <th>pixel5</th>\n",
              "      <th>pixel6</th>\n",
              "      <th>pixel7</th>\n",
              "      <th>pixel8</th>\n",
              "      <th>pixel9</th>\n",
              "      <th>pixel10</th>\n",
              "      <th>pixel11</th>\n",
              "      <th>pixel12</th>\n",
              "      <th>pixel13</th>\n",
              "      <th>pixel14</th>\n",
              "      <th>pixel15</th>\n",
              "      <th>pixel16</th>\n",
              "      <th>pixel17</th>\n",
              "      <th>pixel18</th>\n",
              "      <th>pixel19</th>\n",
              "      <th>pixel20</th>\n",
              "      <th>pixel21</th>\n",
              "      <th>pixel22</th>\n",
              "      <th>pixel23</th>\n",
              "      <th>pixel24</th>\n",
              "      <th>pixel25</th>\n",
              "      <th>pixel26</th>\n",
              "      <th>pixel27</th>\n",
              "      <th>pixel28</th>\n",
              "      <th>pixel29</th>\n",
              "      <th>pixel30</th>\n",
              "      <th>pixel31</th>\n",
              "      <th>pixel32</th>\n",
              "      <th>pixel33</th>\n",
              "      <th>pixel34</th>\n",
              "      <th>pixel35</th>\n",
              "      <th>pixel36</th>\n",
              "      <th>pixel37</th>\n",
              "      <th>pixel38</th>\n",
              "      <th>pixel39</th>\n",
              "      <th>...</th>\n",
              "      <th>pixel745</th>\n",
              "      <th>pixel746</th>\n",
              "      <th>pixel747</th>\n",
              "      <th>pixel748</th>\n",
              "      <th>pixel749</th>\n",
              "      <th>pixel750</th>\n",
              "      <th>pixel751</th>\n",
              "      <th>pixel752</th>\n",
              "      <th>pixel753</th>\n",
              "      <th>pixel754</th>\n",
              "      <th>pixel755</th>\n",
              "      <th>pixel756</th>\n",
              "      <th>pixel757</th>\n",
              "      <th>pixel758</th>\n",
              "      <th>pixel759</th>\n",
              "      <th>pixel760</th>\n",
              "      <th>pixel761</th>\n",
              "      <th>pixel762</th>\n",
              "      <th>pixel763</th>\n",
              "      <th>pixel764</th>\n",
              "      <th>pixel765</th>\n",
              "      <th>pixel766</th>\n",
              "      <th>pixel767</th>\n",
              "      <th>pixel768</th>\n",
              "      <th>pixel769</th>\n",
              "      <th>pixel770</th>\n",
              "      <th>pixel771</th>\n",
              "      <th>pixel772</th>\n",
              "      <th>pixel773</th>\n",
              "      <th>pixel774</th>\n",
              "      <th>pixel775</th>\n",
              "      <th>pixel776</th>\n",
              "      <th>pixel777</th>\n",
              "      <th>pixel778</th>\n",
              "      <th>pixel779</th>\n",
              "      <th>pixel780</th>\n",
              "      <th>pixel781</th>\n",
              "      <th>pixel782</th>\n",
              "      <th>pixel783</th>\n",
              "      <th>class</th>\n",
              "    </tr>\n",
              "  </thead>\n",
              "  <tbody>\n",
              "    <tr>\n",
              "      <th>0</th>\n",
              "      <td>255</td>\n",
              "      <td>255</td>\n",
              "      <td>254</td>\n",
              "      <td>255</td>\n",
              "      <td>255</td>\n",
              "      <td>255</td>\n",
              "      <td>252</td>\n",
              "      <td>255</td>\n",
              "      <td>255</td>\n",
              "      <td>255</td>\n",
              "      <td>254</td>\n",
              "      <td>255</td>\n",
              "      <td>253</td>\n",
              "      <td>255</td>\n",
              "      <td>255</td>\n",
              "      <td>254</td>\n",
              "      <td>253</td>\n",
              "      <td>255</td>\n",
              "      <td>255</td>\n",
              "      <td>253</td>\n",
              "      <td>255</td>\n",
              "      <td>255</td>\n",
              "      <td>255</td>\n",
              "      <td>253</td>\n",
              "      <td>255</td>\n",
              "      <td>255</td>\n",
              "      <td>255</td>\n",
              "      <td>255</td>\n",
              "      <td>254</td>\n",
              "      <td>255</td>\n",
              "      <td>255</td>\n",
              "      <td>254</td>\n",
              "      <td>255</td>\n",
              "      <td>255</td>\n",
              "      <td>255</td>\n",
              "      <td>254</td>\n",
              "      <td>255</td>\n",
              "      <td>255</td>\n",
              "      <td>255</td>\n",
              "      <td>253</td>\n",
              "      <td>...</td>\n",
              "      <td>255</td>\n",
              "      <td>255</td>\n",
              "      <td>255</td>\n",
              "      <td>255</td>\n",
              "      <td>255</td>\n",
              "      <td>255</td>\n",
              "      <td>255</td>\n",
              "      <td>255</td>\n",
              "      <td>255</td>\n",
              "      <td>255</td>\n",
              "      <td>255</td>\n",
              "      <td>255</td>\n",
              "      <td>255</td>\n",
              "      <td>255</td>\n",
              "      <td>255</td>\n",
              "      <td>255</td>\n",
              "      <td>255</td>\n",
              "      <td>255</td>\n",
              "      <td>255</td>\n",
              "      <td>255</td>\n",
              "      <td>255</td>\n",
              "      <td>255</td>\n",
              "      <td>255</td>\n",
              "      <td>255</td>\n",
              "      <td>255</td>\n",
              "      <td>255</td>\n",
              "      <td>255</td>\n",
              "      <td>255</td>\n",
              "      <td>255</td>\n",
              "      <td>255</td>\n",
              "      <td>255</td>\n",
              "      <td>255</td>\n",
              "      <td>255</td>\n",
              "      <td>255</td>\n",
              "      <td>255</td>\n",
              "      <td>255</td>\n",
              "      <td>255</td>\n",
              "      <td>255</td>\n",
              "      <td>255</td>\n",
              "      <td>1</td>\n",
              "    </tr>\n",
              "    <tr>\n",
              "      <th>1</th>\n",
              "      <td>255</td>\n",
              "      <td>255</td>\n",
              "      <td>254</td>\n",
              "      <td>255</td>\n",
              "      <td>255</td>\n",
              "      <td>254</td>\n",
              "      <td>255</td>\n",
              "      <td>255</td>\n",
              "      <td>255</td>\n",
              "      <td>255</td>\n",
              "      <td>255</td>\n",
              "      <td>254</td>\n",
              "      <td>255</td>\n",
              "      <td>255</td>\n",
              "      <td>252</td>\n",
              "      <td>255</td>\n",
              "      <td>255</td>\n",
              "      <td>254</td>\n",
              "      <td>255</td>\n",
              "      <td>253</td>\n",
              "      <td>255</td>\n",
              "      <td>254</td>\n",
              "      <td>253</td>\n",
              "      <td>255</td>\n",
              "      <td>255</td>\n",
              "      <td>255</td>\n",
              "      <td>255</td>\n",
              "      <td>255</td>\n",
              "      <td>255</td>\n",
              "      <td>254</td>\n",
              "      <td>255</td>\n",
              "      <td>255</td>\n",
              "      <td>250</td>\n",
              "      <td>255</td>\n",
              "      <td>254</td>\n",
              "      <td>255</td>\n",
              "      <td>255</td>\n",
              "      <td>251</td>\n",
              "      <td>252</td>\n",
              "      <td>255</td>\n",
              "      <td>...</td>\n",
              "      <td>255</td>\n",
              "      <td>255</td>\n",
              "      <td>255</td>\n",
              "      <td>255</td>\n",
              "      <td>255</td>\n",
              "      <td>255</td>\n",
              "      <td>255</td>\n",
              "      <td>255</td>\n",
              "      <td>255</td>\n",
              "      <td>255</td>\n",
              "      <td>255</td>\n",
              "      <td>255</td>\n",
              "      <td>255</td>\n",
              "      <td>255</td>\n",
              "      <td>255</td>\n",
              "      <td>255</td>\n",
              "      <td>255</td>\n",
              "      <td>255</td>\n",
              "      <td>255</td>\n",
              "      <td>255</td>\n",
              "      <td>255</td>\n",
              "      <td>255</td>\n",
              "      <td>255</td>\n",
              "      <td>255</td>\n",
              "      <td>255</td>\n",
              "      <td>255</td>\n",
              "      <td>255</td>\n",
              "      <td>255</td>\n",
              "      <td>255</td>\n",
              "      <td>255</td>\n",
              "      <td>255</td>\n",
              "      <td>255</td>\n",
              "      <td>255</td>\n",
              "      <td>255</td>\n",
              "      <td>255</td>\n",
              "      <td>255</td>\n",
              "      <td>255</td>\n",
              "      <td>255</td>\n",
              "      <td>255</td>\n",
              "      <td>1</td>\n",
              "    </tr>\n",
              "    <tr>\n",
              "      <th>2</th>\n",
              "      <td>255</td>\n",
              "      <td>254</td>\n",
              "      <td>255</td>\n",
              "      <td>255</td>\n",
              "      <td>255</td>\n",
              "      <td>255</td>\n",
              "      <td>254</td>\n",
              "      <td>255</td>\n",
              "      <td>254</td>\n",
              "      <td>255</td>\n",
              "      <td>255</td>\n",
              "      <td>255</td>\n",
              "      <td>255</td>\n",
              "      <td>253</td>\n",
              "      <td>255</td>\n",
              "      <td>254</td>\n",
              "      <td>254</td>\n",
              "      <td>255</td>\n",
              "      <td>254</td>\n",
              "      <td>255</td>\n",
              "      <td>254</td>\n",
              "      <td>255</td>\n",
              "      <td>255</td>\n",
              "      <td>254</td>\n",
              "      <td>255</td>\n",
              "      <td>255</td>\n",
              "      <td>255</td>\n",
              "      <td>255</td>\n",
              "      <td>255</td>\n",
              "      <td>253</td>\n",
              "      <td>255</td>\n",
              "      <td>255</td>\n",
              "      <td>252</td>\n",
              "      <td>255</td>\n",
              "      <td>255</td>\n",
              "      <td>255</td>\n",
              "      <td>255</td>\n",
              "      <td>255</td>\n",
              "      <td>254</td>\n",
              "      <td>255</td>\n",
              "      <td>...</td>\n",
              "      <td>255</td>\n",
              "      <td>255</td>\n",
              "      <td>255</td>\n",
              "      <td>255</td>\n",
              "      <td>255</td>\n",
              "      <td>255</td>\n",
              "      <td>255</td>\n",
              "      <td>255</td>\n",
              "      <td>255</td>\n",
              "      <td>255</td>\n",
              "      <td>255</td>\n",
              "      <td>255</td>\n",
              "      <td>255</td>\n",
              "      <td>255</td>\n",
              "      <td>255</td>\n",
              "      <td>255</td>\n",
              "      <td>255</td>\n",
              "      <td>255</td>\n",
              "      <td>255</td>\n",
              "      <td>255</td>\n",
              "      <td>255</td>\n",
              "      <td>255</td>\n",
              "      <td>255</td>\n",
              "      <td>255</td>\n",
              "      <td>255</td>\n",
              "      <td>255</td>\n",
              "      <td>255</td>\n",
              "      <td>255</td>\n",
              "      <td>255</td>\n",
              "      <td>255</td>\n",
              "      <td>255</td>\n",
              "      <td>255</td>\n",
              "      <td>255</td>\n",
              "      <td>255</td>\n",
              "      <td>255</td>\n",
              "      <td>255</td>\n",
              "      <td>255</td>\n",
              "      <td>255</td>\n",
              "      <td>255</td>\n",
              "      <td>1</td>\n",
              "    </tr>\n",
              "    <tr>\n",
              "      <th>3</th>\n",
              "      <td>254</td>\n",
              "      <td>255</td>\n",
              "      <td>255</td>\n",
              "      <td>255</td>\n",
              "      <td>254</td>\n",
              "      <td>255</td>\n",
              "      <td>255</td>\n",
              "      <td>255</td>\n",
              "      <td>254</td>\n",
              "      <td>255</td>\n",
              "      <td>254</td>\n",
              "      <td>255</td>\n",
              "      <td>255</td>\n",
              "      <td>254</td>\n",
              "      <td>255</td>\n",
              "      <td>255</td>\n",
              "      <td>252</td>\n",
              "      <td>255</td>\n",
              "      <td>254</td>\n",
              "      <td>255</td>\n",
              "      <td>255</td>\n",
              "      <td>254</td>\n",
              "      <td>253</td>\n",
              "      <td>255</td>\n",
              "      <td>255</td>\n",
              "      <td>255</td>\n",
              "      <td>255</td>\n",
              "      <td>255</td>\n",
              "      <td>255</td>\n",
              "      <td>255</td>\n",
              "      <td>254</td>\n",
              "      <td>255</td>\n",
              "      <td>255</td>\n",
              "      <td>255</td>\n",
              "      <td>254</td>\n",
              "      <td>254</td>\n",
              "      <td>255</td>\n",
              "      <td>255</td>\n",
              "      <td>253</td>\n",
              "      <td>255</td>\n",
              "      <td>...</td>\n",
              "      <td>255</td>\n",
              "      <td>255</td>\n",
              "      <td>255</td>\n",
              "      <td>255</td>\n",
              "      <td>255</td>\n",
              "      <td>255</td>\n",
              "      <td>255</td>\n",
              "      <td>255</td>\n",
              "      <td>255</td>\n",
              "      <td>255</td>\n",
              "      <td>255</td>\n",
              "      <td>255</td>\n",
              "      <td>255</td>\n",
              "      <td>255</td>\n",
              "      <td>255</td>\n",
              "      <td>255</td>\n",
              "      <td>255</td>\n",
              "      <td>255</td>\n",
              "      <td>255</td>\n",
              "      <td>255</td>\n",
              "      <td>255</td>\n",
              "      <td>255</td>\n",
              "      <td>255</td>\n",
              "      <td>255</td>\n",
              "      <td>255</td>\n",
              "      <td>255</td>\n",
              "      <td>255</td>\n",
              "      <td>255</td>\n",
              "      <td>255</td>\n",
              "      <td>255</td>\n",
              "      <td>255</td>\n",
              "      <td>255</td>\n",
              "      <td>255</td>\n",
              "      <td>255</td>\n",
              "      <td>255</td>\n",
              "      <td>255</td>\n",
              "      <td>255</td>\n",
              "      <td>255</td>\n",
              "      <td>255</td>\n",
              "      <td>1</td>\n",
              "    </tr>\n",
              "    <tr>\n",
              "      <th>4</th>\n",
              "      <td>254</td>\n",
              "      <td>255</td>\n",
              "      <td>255</td>\n",
              "      <td>253</td>\n",
              "      <td>255</td>\n",
              "      <td>255</td>\n",
              "      <td>255</td>\n",
              "      <td>254</td>\n",
              "      <td>255</td>\n",
              "      <td>255</td>\n",
              "      <td>253</td>\n",
              "      <td>255</td>\n",
              "      <td>252</td>\n",
              "      <td>255</td>\n",
              "      <td>255</td>\n",
              "      <td>254</td>\n",
              "      <td>255</td>\n",
              "      <td>255</td>\n",
              "      <td>254</td>\n",
              "      <td>255</td>\n",
              "      <td>255</td>\n",
              "      <td>255</td>\n",
              "      <td>255</td>\n",
              "      <td>253</td>\n",
              "      <td>255</td>\n",
              "      <td>255</td>\n",
              "      <td>255</td>\n",
              "      <td>255</td>\n",
              "      <td>255</td>\n",
              "      <td>254</td>\n",
              "      <td>250</td>\n",
              "      <td>255</td>\n",
              "      <td>251</td>\n",
              "      <td>255</td>\n",
              "      <td>255</td>\n",
              "      <td>255</td>\n",
              "      <td>254</td>\n",
              "      <td>253</td>\n",
              "      <td>254</td>\n",
              "      <td>255</td>\n",
              "      <td>...</td>\n",
              "      <td>255</td>\n",
              "      <td>255</td>\n",
              "      <td>255</td>\n",
              "      <td>255</td>\n",
              "      <td>255</td>\n",
              "      <td>255</td>\n",
              "      <td>255</td>\n",
              "      <td>255</td>\n",
              "      <td>255</td>\n",
              "      <td>255</td>\n",
              "      <td>255</td>\n",
              "      <td>255</td>\n",
              "      <td>255</td>\n",
              "      <td>255</td>\n",
              "      <td>255</td>\n",
              "      <td>255</td>\n",
              "      <td>255</td>\n",
              "      <td>255</td>\n",
              "      <td>255</td>\n",
              "      <td>255</td>\n",
              "      <td>255</td>\n",
              "      <td>255</td>\n",
              "      <td>255</td>\n",
              "      <td>255</td>\n",
              "      <td>255</td>\n",
              "      <td>255</td>\n",
              "      <td>255</td>\n",
              "      <td>255</td>\n",
              "      <td>255</td>\n",
              "      <td>255</td>\n",
              "      <td>255</td>\n",
              "      <td>255</td>\n",
              "      <td>255</td>\n",
              "      <td>255</td>\n",
              "      <td>255</td>\n",
              "      <td>255</td>\n",
              "      <td>255</td>\n",
              "      <td>255</td>\n",
              "      <td>255</td>\n",
              "      <td>1</td>\n",
              "    </tr>\n",
              "  </tbody>\n",
              "</table>\n",
              "<p>5 rows × 785 columns</p>\n",
              "</div>"
            ],
            "text/plain": [
              "   pixel0  pixel1  pixel2  pixel3  ...  pixel781  pixel782  pixel783  class\n",
              "0     255     255     254     255  ...       255       255       255      1\n",
              "1     255     255     254     255  ...       255       255       255      1\n",
              "2     255     254     255     255  ...       255       255       255      1\n",
              "3     254     255     255     255  ...       255       255       255      1\n",
              "4     254     255     255     253  ...       255       255       255      1\n",
              "\n",
              "[5 rows x 785 columns]"
            ]
          },
          "metadata": {},
          "execution_count": 115
        }
      ]
    },
    {
      "cell_type": "markdown",
      "source": [
        "### Informació de les dades"
      ],
      "metadata": {
        "id": "V-EG4DH3WI0a"
      }
    },
    {
      "cell_type": "code",
      "source": [
        "print(\"Dimensionalitat de la BBDD:\", df.shape)\n",
        "print(\"Número de instancies:\", df.shape[0])\n",
        "print(\"Número de variables:\", df.shape[1])"
      ],
      "metadata": {
        "id": "6NjpGsqJM3Yc",
        "colab": {
          "base_uri": "https://localhost:8080/"
        },
        "outputId": "6910f516-3b89-41b5-d1fe-cfe79a1d61a5"
      },
      "execution_count": 116,
      "outputs": [
        {
          "output_type": "stream",
          "name": "stdout",
          "text": [
            "Dimensionalitat de la BBDD: (1200, 785)\n",
            "Número de instancies: 1200\n",
            "Número de variables: 785\n"
          ]
        }
      ]
    },
    {
      "cell_type": "code",
      "source": [
        "df.info()"
      ],
      "metadata": {
        "colab": {
          "base_uri": "https://localhost:8080/"
        },
        "id": "zUf8WG7C31e3",
        "outputId": "ff18ab77-e78c-4633-dead-b595523b6074"
      },
      "execution_count": 117,
      "outputs": [
        {
          "output_type": "stream",
          "name": "stdout",
          "text": [
            "<class 'pandas.core.frame.DataFrame'>\n",
            "RangeIndex: 1200 entries, 0 to 1199\n",
            "Columns: 785 entries, pixel0 to class\n",
            "dtypes: int64(785)\n",
            "memory usage: 7.2 MB\n"
          ]
        }
      ]
    },
    {
      "cell_type": "markdown",
      "source": [
        "Podem veure que el Dataset es compon de variables 'pixels' i la 'class' (vocal). Aquestes variables són númeriques i són del tipus Int64. \n"
      ],
      "metadata": {
        "id": "xEbg2uCg-eZA"
      }
    },
    {
      "cell_type": "markdown",
      "source": [
        "### Nulls"
      ],
      "metadata": {
        "id": "P-2KDGY7_CW8"
      }
    },
    {
      "cell_type": "code",
      "source": [
        "df.isnull().sum()"
      ],
      "metadata": {
        "colab": {
          "base_uri": "https://localhost:8080/"
        },
        "id": "iEsaXkr49Fyv",
        "outputId": "27682faf-a8ef-4d2d-8055-142a3ad99c66"
      },
      "execution_count": 118,
      "outputs": [
        {
          "output_type": "execute_result",
          "data": {
            "text/plain": [
              "pixel0      0\n",
              "pixel1      0\n",
              "pixel2      0\n",
              "pixel3      0\n",
              "pixel4      0\n",
              "           ..\n",
              "pixel780    0\n",
              "pixel781    0\n",
              "pixel782    0\n",
              "pixel783    0\n",
              "class       0\n",
              "Length: 785, dtype: int64"
            ]
          },
          "metadata": {},
          "execution_count": 118
        }
      ]
    },
    {
      "cell_type": "markdown",
      "source": [
        "El Dataset no conté cap NULL. Per tant no cal tractar-los."
      ],
      "metadata": {
        "id": "dDJKeeRHWQ02"
      }
    },
    {
      "cell_type": "markdown",
      "source": [
        "### Dividir Dataset en 'train' & 'test'"
      ],
      "metadata": {
        "id": "y2sPFpdOWBG3"
      }
    },
    {
      "cell_type": "code",
      "source": [
        "pix = []\n",
        "\n",
        "for i in range(784):\n",
        "    pix.append('pixel'+str(i))\n",
        "\n",
        "features = pix\n",
        "\n",
        "X = df.loc[:, features].values\n",
        "y = df.loc[:,'class'].values\n",
        "\n",
        "X_train, X_test, y_train, y_test = train_test_split(X, y, test_size = 0.30, random_state = 100)\n",
        "y_train = y_train.ravel()\n",
        "y_test = y_test.ravel()\n",
        "\n",
        "print (X)\n",
        "print (y)"
      ],
      "metadata": {
        "id": "lKWe52JN5D9C",
        "colab": {
          "base_uri": "https://localhost:8080/"
        },
        "outputId": "1b4c7dea-9d10-4413-fddb-b085d65822d2"
      },
      "execution_count": 119,
      "outputs": [
        {
          "output_type": "stream",
          "name": "stdout",
          "text": [
            "[[255 255 254 ... 255 255 255]\n",
            " [255 255 254 ... 255 255 255]\n",
            " [255 254 255 ... 255 255 255]\n",
            " ...\n",
            " [255 255 255 ... 255 255 255]\n",
            " [255 255 255 ... 255 255 255]\n",
            " [254 255 255 ... 255 255 255]]\n",
            "[1 1 1 ... 6 6 6]\n"
          ]
        }
      ]
    },
    {
      "cell_type": "markdown",
      "source": [
        "### Imatges"
      ],
      "metadata": {
        "id": "LtOfA-zLadmY"
      }
    },
    {
      "cell_type": "code",
      "source": [
        "def row2img(data):\n",
        "    return np.asfarray(data).reshape((28,28))"
      ],
      "metadata": {
        "id": "U_txoRB5ac4K"
      },
      "execution_count": 120,
      "outputs": []
    },
    {
      "cell_type": "code",
      "source": [
        "data = X_train[10]\n",
        "f, ax1 = plt.subplots(1, 1, sharey=True)\n",
        "f.suptitle('Respective image of X_train[11]', size='20')\n",
        "ax1.imshow(255-row2img(data), cmap=plt.cm.binary);"
      ],
      "metadata": {
        "colab": {
          "base_uri": "https://localhost:8080/",
          "height": 294
        },
        "id": "VNUvcTcpak9I",
        "outputId": "3a75800e-a824-4015-aa66-33ed56c6d40a"
      },
      "execution_count": 121,
      "outputs": [
        {
          "output_type": "display_data",
          "data": {
            "image/png": "[encoded data removed]",
            "text/plain": [
              "<Figure size 432x288 with 1 Axes>"
            ]
          },
          "metadata": {
            "needs_background": "light"
          }
        }
      ]
    },
    {
      "cell_type": "markdown",
      "source": [
        "## K-Nearset Neighbour Classifier"
      ],
      "metadata": {
        "id": "W5yYR5NF59PN"
      }
    },
    {
      "cell_type": "code",
      "source": [
        "start_time = time.time()\n",
        "# choose k between 1 to k\n",
        "k_range = range(1, 31)\n",
        "k_scores = []\n",
        "# use iteration to caclulator different k in models, then return the average accuracy based on the cross validation\n",
        "for k in k_range:\n",
        "    knn = KNeighborsClassifier(n_neighbors=k)\n",
        "    scores = cross_val_score(knn, X, y, cv=5, scoring='accuracy')\n",
        "    k_scores.append(scores.mean())\n"
      ],
      "metadata": {
        "id": "bVgPwJSW6Gcl"
      },
      "execution_count": 122,
      "outputs": []
    },
    {
      "cell_type": "code",
      "source": [
        "knn = KNeighborsClassifier(n_neighbors = 3, weights='distance')\n",
        "knn.fit(X_train, y_train)\n",
        "y_pred = knn.predict(X_test)\n",
        "print('K-Nearset Neighbour - Accuracy: ', accuracy_score(y_test, y_pred)* 100)\n",
        "\n",
        "print(\"--- %s seconds ---\" % (time.time() - start_time))"
      ],
      "metadata": {
        "colab": {
          "base_uri": "https://localhost:8080/"
        },
        "id": "ECckA3L3CgtV",
        "outputId": "c4c8ddb9-9830-4930-8eff-088d17b32e17"
      },
      "execution_count": 123,
      "outputs": [
        {
          "output_type": "stream",
          "name": "stdout",
          "text": [
            "K-Nearset Neighbour - Accuracy:  83.88888888888889\n",
            "--- 6.132642984390259 seconds ---\n"
          ]
        }
      ]
    },
    {
      "cell_type": "markdown",
      "source": [
        "### Resultats\n",
        "S'han analitzat KNN amb diferents hiperparàmetres. <br>\n",
        "Podem veure com i cambiant els hiperparàmetres els resultats en 'Accuracy' són molt semblants."
      ],
      "metadata": {
        "id": "R1jHOVoLDi7d"
      }
    },
    {
      "cell_type": "markdown",
      "source": [
        "![KNN_TABLE.PNG](data:image/png;base64,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)"
      ],
      "metadata": {
        "id": "essla7f3Ddi6"
      }
    },
    {
      "cell_type": "markdown",
      "source": [
        "## Random Forest"
      ],
      "metadata": {
        "id": "sWJVbJIuwUzp"
      }
    },
    {
      "cell_type": "code",
      "source": [
        "start_time = time.time()\n",
        "\n",
        "rfc_model = RandomForestClassifier(n_estimators=1000,  max_depth=20)\n",
        "rfc_model.fit(X_train, y_train)\n",
        "rfc_predict = rfc_model.predict(X_test)\n",
        "print('Random Forest - Accuracy: ', accuracy_score(rfc_predict, y_test) * 100)\n",
        "\n",
        "print(\"--- %s seconds ---\" % (time.time() - start_time))"
      ],
      "metadata": {
        "colab": {
          "base_uri": "https://localhost:8080/"
        },
        "id": "zDf1wagivXe7",
        "outputId": "3dba7e5d-5aea-4b64-af77-75f2c430f084"
      },
      "execution_count": 124,
      "outputs": [
        {
          "output_type": "stream",
          "name": "stdout",
          "text": [
            "Random Forest - Accuracy:  83.33333333333334\n",
            "--- 5.839949369430542 seconds ---\n"
          ]
        }
      ]
    },
    {
      "cell_type": "markdown",
      "source": [
        "### Resultats\n",
        "S'han analitzat Random Forest amb diferents hiperparàmetres. <br>\n",
        "Podem veure com augmentan la màxima profunditat, l'*Accuracy* millora."
      ],
      "metadata": {
        "id": "034811GpD6kf"
      }
    },
    {
      "cell_type": "markdown",
      "source": [
        "![RF_Table.PNG](data:image/png;base64,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)"
      ],
      "metadata": {
        "id": "bVSWtAr4ECNK"
      }
    },
    {
      "cell_type": "markdown",
      "source": [
        "## SVM"
      ],
      "metadata": {
        "id": "rt0RlHcuwZ_v"
      }
    },
    {
      "cell_type": "code",
      "source": [
        "start_time = time.time()\n",
        "\n",
        "svm_model = svm.SVC(kernel='linear', C=1, gamma=2)\n",
        "svm_model.fit(X_train, y_train)\n",
        "svc_predict = svm_model.predict(X_test)\n",
        "print('SVM - Accuracy: ', accuracy_score(svc_predict, y_test) * 100)\n",
        "\n",
        "print(\"--- %s seconds ---\" % (time.time() - start_time))"
      ],
      "metadata": {
        "colab": {
          "base_uri": "https://localhost:8080/"
        },
        "id": "hg3bvpbJwb_-",
        "outputId": "e3b76414-c018-4a07-f33b-e69fec06b80f"
      },
      "execution_count": 125,
      "outputs": [
        {
          "output_type": "stream",
          "name": "stdout",
          "text": [
            "SVM - Accuracy:  88.05555555555556\n",
            "--- 0.250255823135376 seconds ---\n"
          ]
        }
      ]
    },
    {
      "cell_type": "markdown",
      "source": [
        "### Resultats\n",
        "S'ha analitzat SVM amb diferents hiperparàemtres. <br>\n",
        "Tot i cambiant els hiperparàmetres els resultats en 'Accuracy' són molt semblants.\n"
      ],
      "metadata": {
        "id": "SHVAqpU0-CGY"
      }
    },
    {
      "cell_type": "markdown",
      "source": [
        "![SVM_Table.PNG](data:image/png;base64,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)"
      ],
      "metadata": {
        "id": "GT6EFvReEQrX"
      }
    },
    {
      "cell_type": "markdown",
      "source": [
        "## Aplicant PCA"
      ],
      "metadata": {
        "id": "wqj3JtDWykrO"
      }
    },
    {
      "cell_type": "code",
      "source": [
        "# Tenim que normalitzar abans de apliclar el mètode 'fit'\n",
        "df_normalized = (df - df.mean()) / df.std()\n",
        "pca = PCA(n_components = 20)\n",
        "pca.fit(df_normalized)"
      ],
      "metadata": {
        "colab": {
          "base_uri": "https://localhost:8080/"
        },
        "id": "tnewKX2SyzYN",
        "outputId": "9a615549-c307-4291-d1b6-68c5fda0ede4"
      },
      "execution_count": 126,
      "outputs": [
        {
          "output_type": "execute_result",
          "data": {
            "text/plain": [
              "PCA(n_components=20)"
            ]
          },
          "metadata": {},
          "execution_count": 126
        }
      ]
    },
    {
      "cell_type": "code",
      "source": [
        "# Resultats\n",
        "loadings = pd.DataFrame(pca.components_.T)\n",
        "print(loadings)"
      ],
      "metadata": {
        "colab": {
          "base_uri": "https://localhost:8080/"
        },
        "id": "AbAEzfm7y6Gb",
        "outputId": "a09f81af-e7cf-4e77-899e-feb968e3925c"
      },
      "execution_count": 127,
      "outputs": [
        {
          "output_type": "stream",
          "name": "stdout",
          "text": [
            "           0         1         2   ...        17        18        19\n",
            "0    0.042689  0.008027  0.025052  ... -0.002381 -0.025035  0.014063\n",
            "1    0.047818 -0.024135  0.045865  ... -0.028604  0.025377 -0.014065\n",
            "2    0.005069  0.004005  0.005232  ...  0.043023  0.013519  0.017961\n",
            "3    0.005532  0.001775  0.003290  ...  0.037084  0.014567  0.016050\n",
            "4    0.004999  0.002224  0.005587  ...  0.042301  0.012931  0.015272\n",
            "..        ...       ...       ...  ...       ...       ...       ...\n",
            "780  0.000000  0.000000  0.000000  ...  0.000000 -0.000000  0.000000\n",
            "781 -0.012440 -0.094422 -0.030076  ... -0.062567 -0.021602  0.012253\n",
            "782  0.013199 -0.030637 -0.039228  ...  0.055677  0.014532 -0.019263\n",
            "783 -0.012440 -0.094422 -0.030076  ... -0.062567 -0.021602  0.012253\n",
            "784  0.128488 -0.038711  0.072602  ... -0.058002 -0.017834 -0.042818\n",
            "\n",
            "[785 rows x 20 columns]\n"
          ]
        }
      ]
    },
    {
      "cell_type": "code",
      "source": [
        "plt.plot(pca.explained_variance_ratio_)\n",
        "plt.ylabel('Explained Variance')\n",
        "plt.xlabel('Components')\n",
        "plt.show()"
      ],
      "metadata": {
        "colab": {
          "base_uri": "https://localhost:8080/",
          "height": 279
        },
        "id": "UxyRPxV6y9Ez",
        "outputId": "d4ad52d7-f0d2-44fe-89ce-d8a9f9896ad3"
      },
      "execution_count": 128,
      "outputs": [
        {
          "output_type": "display_data",
          "data": {
            "image/png": "[encoded data removed]",
            "text/plain": [
              "<Figure size 432x288 with 1 Axes>"
            ]
          },
          "metadata": {
            "needs_background": "light"
          }
        }
      ]
    },
    {
      "cell_type": "markdown",
      "source": [
        "## Resultats"
      ],
      "metadata": {
        "id": "iqNsDfOBuzAK"
      }
    },
    {
      "cell_type": "markdown",
      "source": [
        "En aquest apartat, es mostraren les gràfiques de 'Accuracy' i Temps dels diferents models classificadors amb els seus millors hiperparàmetres i veurem quin d'aquests es millor."
      ],
      "metadata": {
        "id": "koWMKRydIk5q"
      }
    },
    {
      "cell_type": "markdown",
      "source": [
        "### Accuracy"
      ],
      "metadata": {
        "id": "Fw0It9CLu13F"
      }
    },
    {
      "cell_type": "markdown",
      "source": [
        "Podem veure com en 'Accuracy', els tres models tenen resultats molt parells. El model que dona millor resultat es tracta del SVM (88,05%), després KNN (83,88%) i per últim Random Forest (82,22%)."
      ],
      "metadata": {
        "id": "IjiEOr9FIgjb"
      }
    },
    {
      "cell_type": "markdown",
      "source": [
        "![image.png](data:image/png;base64,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)"
      ],
      "metadata": {
        "id": "sSXxEnyVHhp3"
      }
    },
    {
      "cell_type": "markdown",
      "source": [
        "### Temps\n",
        "Podem veure que en temps, el model SVM és el que triga menys temps amb molta diferència (0,24s). Després el model Random Forest (5,83s) i per últim el KNN (7,00s)."
      ],
      "metadata": {
        "id": "tVqhqIPbHzuo"
      }
    },
    {
      "cell_type": "markdown",
      "source": [
        "![image.png](data:image/png;base64,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)"
      ],
      "metadata": {
        "id": "vtX0V0bEHyEx"
      }
    },
    {
      "cell_type": "markdown",
      "source": [
        "## Conclusions"
      ],
      "metadata": {
        "id": "tYKw367d0pJB"
      }
    },
    {
      "cell_type": "markdown",
      "source": [
        "Després d'analitzar, preprocesar les dades, i utilitzar diferents models classificadors amb diferents hiperparàmetres podem concluir que el millor model classificador aplicat és SVM, tant per 'Accuracy' com en Temps.\n"
      ],
      "metadata": {
        "id": "3Ur7QvXT411-"
      }
    },
    {
      "cell_type": "markdown",
      "source": [
        "## Possibles futurs treballs"
      ],
      "metadata": {
        "id": "PedF3iI90prK"
      }
    },
    {
      "cell_type": "markdown",
      "source": [
        "*   Treballar amb més vocals del llenguatge Telegu.\n",
        "*   Aplicar més models classificadors.\n",
        "*   Probar més configuracions de hiperparàmetres.\n"
      ],
      "metadata": {
        "id": "PvFeqEfX03rV"
      }
    }
  ]
}
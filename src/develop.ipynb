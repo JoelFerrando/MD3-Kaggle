{
  "nbformat": 4,
  "nbformat_minor": 0,
  "metadata": {
    "colab": {
      "name": "Untitled5.ipynb",
      "provenance": []
    },
    "kernelspec": {
      "name": "python3",
      "display_name": "Python 3"
    },
    "language_info": {
      "name": "python"
    }
  },
  "cells": [
    {
      "cell_type": "markdown",
      "source": [
        "# Telugu Vowel Dataset"
      ],
      "metadata": {
        "id": "woRy8IlPInKl"
      }
    },
    {
      "cell_type": "markdown",
      "source": [
        "El dataset tracta de sis vocals del idioma Telegu."
      ],
      "metadata": {
        "id": "m8EABlLII1T3"
      }
    },
    {
      "cell_type": "markdown",
      "source": [
        "## **Llibreries**\n"
      ],
      "metadata": {
        "id": "fZMdCfJ4Lzz1"
      }
    },
    {
      "cell_type": "code",
      "execution_count": null,
      "metadata": {
        "id": "MXIRKxPsIjzq"
      },
      "outputs": [],
      "source": [
        "import numpy as np\n",
        "import pandas as pd"
      ]
    },
    {
      "cell_type": "markdown",
      "source": [
        "## **Dades**"
      ],
      "metadata": {
        "id": "cGMmPLAdMJMQ"
      }
    },
    {
      "cell_type": "markdown",
      "source": [
        "Llegim el csv"
      ],
      "metadata": {
        "id": "ECAA2DkhMM4v"
      }
    },
    {
      "cell_type": "code",
      "source": [
        "data = pd.read_csv(\"CSV_datasetsix_vowel_dataset_with_class\")"
      ],
      "metadata": {
        "id": "yyARq4f5MO8G"
      },
      "execution_count": null,
      "outputs": []
    },
    {
      "cell_type": "code",
      "source": [
        "data.head()"
      ],
      "metadata": {
        "id": "s2iLd-PWM1o9"
      },
      "execution_count": null,
      "outputs": []
    },
    {
      "cell_type": "code",
      "source": [
        "data.shape()"
      ],
      "metadata": {
        "id": "6NjpGsqJM3Yc"
      },
      "execution_count": null,
      "outputs": []
    }
  ]
}